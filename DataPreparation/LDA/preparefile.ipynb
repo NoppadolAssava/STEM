{
 "cells": [
  {
   "cell_type": "code",
   "execution_count": 1,
   "metadata": {},
   "outputs": [],
   "source": [
    "import numpy as np\n",
    "import pandas as pd\n",
    "from tqdm import tqdm_notebook as tqdm"
   ]
  },
  {
   "cell_type": "code",
   "execution_count": 2,
   "metadata": {},
   "outputs": [],
   "source": [
    "Dataset = 'Apache'\n",
    "component_title = pd.read_csv(Dataset+'_component_title.csv',sep=';;;',engine='python')\n",
    "descp = pd.read_csv(Dataset+'_description.csv')"
   ]
  },
  {
   "cell_type": "code",
   "execution_count": 3,
   "metadata": {},
   "outputs": [
    {
     "data": {
      "text/html": [
       "<div>\n",
       "<style scoped>\n",
       "    .dataframe tbody tr th:only-of-type {\n",
       "        vertical-align: middle;\n",
       "    }\n",
       "\n",
       "    .dataframe tbody tr th {\n",
       "        vertical-align: top;\n",
       "    }\n",
       "\n",
       "    .dataframe thead th {\n",
       "        text-align: right;\n",
       "    }\n",
       "</style>\n",
       "<table border=\"1\" class=\"dataframe\">\n",
       "  <thead>\n",
       "    <tr style=\"text-align: right;\">\n",
       "      <th></th>\n",
       "      <th>issuekey</th>\n",
       "      <th>component</th>\n",
       "      <th>title</th>\n",
       "    </tr>\n",
       "  </thead>\n",
       "  <tbody>\n",
       "    <tr>\n",
       "      <th>0</th>\n",
       "      <td>HBASE-21714</td>\n",
       "      <td>HBASE_Thrift</td>\n",
       "      <td>Deprecated isTableAvailableWithSplit method in...</td>\n",
       "    </tr>\n",
       "    <tr>\n",
       "      <th>1</th>\n",
       "      <td>HBASE-21715</td>\n",
       "      <td>HBASE_Client</td>\n",
       "      <td>Do not throw UnsupportedOperationException in ...</td>\n",
       "    </tr>\n",
       "    <tr>\n",
       "      <th>2</th>\n",
       "      <td>HBASE-21717</td>\n",
       "      <td>HBASE_asyncclient</td>\n",
       "      <td>Implement Connection based on AsyncConnection</td>\n",
       "    </tr>\n",
       "    <tr>\n",
       "      <th>3</th>\n",
       "      <td>HBASE-21717</td>\n",
       "      <td>HBASE_Client</td>\n",
       "      <td>Implement Connection based on AsyncConnection</td>\n",
       "    </tr>\n",
       "    <tr>\n",
       "      <th>4</th>\n",
       "      <td>HBASE-21718</td>\n",
       "      <td>HBASE_Admin</td>\n",
       "      <td>Implement Admin based on AsyncAdmin</td>\n",
       "    </tr>\n",
       "  </tbody>\n",
       "</table>\n",
       "</div>"
      ],
      "text/plain": [
       "      issuekey          component  \\\n",
       "0  HBASE-21714       HBASE_Thrift   \n",
       "1  HBASE-21715       HBASE_Client   \n",
       "2  HBASE-21717  HBASE_asyncclient   \n",
       "3  HBASE-21717       HBASE_Client   \n",
       "4  HBASE-21718        HBASE_Admin   \n",
       "\n",
       "                                               title  \n",
       "0  Deprecated isTableAvailableWithSplit method in...  \n",
       "1  Do not throw UnsupportedOperationException in ...  \n",
       "2      Implement Connection based on AsyncConnection  \n",
       "3      Implement Connection based on AsyncConnection  \n",
       "4                Implement Admin based on AsyncAdmin  "
      ]
     },
     "execution_count": 3,
     "metadata": {},
     "output_type": "execute_result"
    }
   ],
   "source": [
    "# component_title['issuekey'] = component_title['issuekey'].str[1:-1]\n",
    "# component_title['component'] = component_title['component'].str[1:-1]\n",
    "# component_title['title'] = component_title['title'].str[1:-1]\n",
    "component_title.head()"
   ]
  },
  {
   "cell_type": "code",
   "execution_count": null,
   "metadata": {},
   "outputs": [
    {
     "data": {
      "text/html": [
       "<div>\n",
       "<style scoped>\n",
       "    .dataframe tbody tr th:only-of-type {\n",
       "        vertical-align: middle;\n",
       "    }\n",
       "\n",
       "    .dataframe tbody tr th {\n",
       "        vertical-align: top;\n",
       "    }\n",
       "\n",
       "    .dataframe thead th {\n",
       "        text-align: right;\n",
       "    }\n",
       "</style>\n",
       "<table border=\"1\" class=\"dataframe\">\n",
       "  <thead>\n",
       "    <tr style=\"text-align: right;\">\n",
       "      <th></th>\n",
       "      <th>issuekey</th>\n",
       "      <th>description</th>\n",
       "    </tr>\n",
       "  </thead>\n",
       "  <tbody>\n",
       "    <tr>\n",
       "      <th>0</th>\n",
       "      <td>HBASE-21714</td>\n",
       "      <td>The one in the Admin interface has already bee...</td>\n",
       "    </tr>\n",
       "    <tr>\n",
       "      <th>1</th>\n",
       "      <td>HBASE-21715</td>\n",
       "      <td>This is really a bad practice, no one would ex...</td>\n",
       "    </tr>\n",
       "    <tr>\n",
       "      <th>2</th>\n",
       "      <td>HBASE-21716</td>\n",
       "      <td>HTableDescriptor.toStringCustomizedValues is u...</td>\n",
       "    </tr>\n",
       "    <tr>\n",
       "      <th>3</th>\n",
       "      <td>HBASE-21717</td>\n",
       "      <td>NaN</td>\n",
       "    </tr>\n",
       "    <tr>\n",
       "      <th>4</th>\n",
       "      <td>HBASE-21718</td>\n",
       "      <td>NaN</td>\n",
       "    </tr>\n",
       "  </tbody>\n",
       "</table>\n",
       "</div>"
      ],
      "text/plain": [
       "      issuekey                                        description\n",
       "0  HBASE-21714  The one in the Admin interface has already bee...\n",
       "1  HBASE-21715  This is really a bad practice, no one would ex...\n",
       "2  HBASE-21716  HTableDescriptor.toStringCustomizedValues is u...\n",
       "3  HBASE-21717                                                NaN\n",
       "4  HBASE-21718                                                NaN"
      ]
     },
     "execution_count": 4,
     "metadata": {},
     "output_type": "execute_result"
    }
   ],
   "source": [
    "descp['description'] = descp['description'].str[1:-1]\n",
    "descp.head()"
   ]
  },
  {
   "cell_type": "code",
   "execution_count": null,
   "metadata": {},
   "outputs": [
    {
     "data": {
      "text/html": [
       "<div>\n",
       "<style scoped>\n",
       "    .dataframe tbody tr th:only-of-type {\n",
       "        vertical-align: middle;\n",
       "    }\n",
       "\n",
       "    .dataframe tbody tr th {\n",
       "        vertical-align: top;\n",
       "    }\n",
       "\n",
       "    .dataframe thead th {\n",
       "        text-align: right;\n",
       "    }\n",
       "</style>\n",
       "<table border=\"1\" class=\"dataframe\">\n",
       "  <thead>\n",
       "    <tr style=\"text-align: right;\">\n",
       "      <th></th>\n",
       "      <th>issuekey</th>\n",
       "      <th>component</th>\n",
       "      <th>title</th>\n",
       "      <th>description</th>\n",
       "    </tr>\n",
       "  </thead>\n",
       "  <tbody>\n",
       "    <tr>\n",
       "      <th>0</th>\n",
       "      <td>HBASE-21714</td>\n",
       "      <td>HBASE_Thrift</td>\n",
       "      <td>Deprecated isTableAvailableWithSplit method in...</td>\n",
       "      <td>The one in the Admin interface has already bee...</td>\n",
       "    </tr>\n",
       "    <tr>\n",
       "      <th>1</th>\n",
       "      <td>HBASE-21715</td>\n",
       "      <td>HBASE_Client</td>\n",
       "      <td>Do not throw UnsupportedOperationException in ...</td>\n",
       "      <td>This is really a bad practice, no one would ex...</td>\n",
       "    </tr>\n",
       "    <tr>\n",
       "      <th>2</th>\n",
       "      <td>HBASE-21717</td>\n",
       "      <td>HBASE_asyncclient</td>\n",
       "      <td>Implement Connection based on AsyncConnection</td>\n",
       "      <td>NaN</td>\n",
       "    </tr>\n",
       "    <tr>\n",
       "      <th>3</th>\n",
       "      <td>HBASE-21717</td>\n",
       "      <td>HBASE_Client</td>\n",
       "      <td>Implement Connection based on AsyncConnection</td>\n",
       "      <td>NaN</td>\n",
       "    </tr>\n",
       "    <tr>\n",
       "      <th>4</th>\n",
       "      <td>HBASE-21718</td>\n",
       "      <td>HBASE_Admin</td>\n",
       "      <td>Implement Admin based on AsyncAdmin</td>\n",
       "      <td>NaN</td>\n",
       "    </tr>\n",
       "  </tbody>\n",
       "</table>\n",
       "</div>"
      ],
      "text/plain": [
       "      issuekey          component  \\\n",
       "0  HBASE-21714       HBASE_Thrift   \n",
       "1  HBASE-21715       HBASE_Client   \n",
       "2  HBASE-21717  HBASE_asyncclient   \n",
       "3  HBASE-21717       HBASE_Client   \n",
       "4  HBASE-21718        HBASE_Admin   \n",
       "\n",
       "                                               title  \\\n",
       "0  Deprecated isTableAvailableWithSplit method in...   \n",
       "1  Do not throw UnsupportedOperationException in ...   \n",
       "2      Implement Connection based on AsyncConnection   \n",
       "3      Implement Connection based on AsyncConnection   \n",
       "4                Implement Admin based on AsyncAdmin   \n",
       "\n",
       "                                         description  \n",
       "0  The one in the Admin interface has already bee...  \n",
       "1  This is really a bad practice, no one would ex...  \n",
       "2                                                NaN  \n",
       "3                                                NaN  \n",
       "4                                                NaN  "
      ]
     },
     "execution_count": 5,
     "metadata": {},
     "output_type": "execute_result"
    }
   ],
   "source": [
    "df = pd.merge(left=component_title,right=descp, left_on='issuekey', right_on='issuekey')\n",
    "df.head()"
   ]
  },
  {
   "cell_type": "code",
   "execution_count": null,
   "metadata": {},
   "outputs": [
    {
     "data": {
      "application/vnd.jupyter.widget-view+json": {
       "model_id": "9aacf05497cf45ea884dce5bac7356d1",
       "version_major": 2,
       "version_minor": 0
      },
      "text/plain": [
       "HBox(children=(IntProgress(value=0, max=395268), HTML(value='')))"
      ]
     },
     "metadata": {},
     "output_type": "display_data"
    }
   ],
   "source": [
    "ik = []\n",
    "cmp = []\n",
    "tt =[]\n",
    "desc = []\n",
    "las = ''\n",
    "for key,issue in tqdm(df.iterrows(),total=df.shape[0]):\n",
    "    if issue['issuekey']!=las:\n",
    "        ik.append(issue['issuekey'])\n",
    "        cmp.append(issue['component'])\n",
    "        tt.append(issue['title'])\n",
    "        desc.append(issue['description'])\n",
    "    else:\n",
    "        cmp[len(cmp)-1] = cmp[len(cmp)-1]+' '+issue['component']\n",
    "    las = issue['issuekey']\n",
    "# for i in tqdm(df['issuekey'].unique()):\n",
    "#     temp = df[df['issuekey']==i]\n",
    "#     ik.append(i)\n",
    "#     tt.append(temp['title'].iloc[0])\n",
    "#     desc.append(temp['description'].iloc[0])\n",
    "#     cm = ''\n",
    "#     for c in temp['component']:\n",
    "#         cm = cm+c\n",
    "#     cmp.append(cm)\n",
    "combineComponent = pd.DataFrame({'issuekey':ik,'component':cmp,'title':tt,'description':desc})\n"
   ]
  },
  {
   "cell_type": "code",
   "execution_count": null,
   "metadata": {},
   "outputs": [],
   "source": [
    "df1 = combineComponent.copy()\n",
    "df1['x'] = 'x'\n",
    "df1['title+component+description'] = df1['title'].map(str)+' '+df1['component'].map(str)+' '+df1['description'].map(str)\n",
    "df1.drop(columns = ['component','title','description'],inplace=True)\n",
    "df1.head()"
   ]
  },
  {
   "cell_type": "code",
   "execution_count": null,
   "metadata": {},
   "outputs": [],
   "source": [
    "df2 = df.copy()\n",
    "df2['title+description'] = df2['title'].map(str)+' '+df2['description'].map(str)\n",
    "df2.drop(columns = ['title','description'],inplace=True)\n",
    "df2.head()"
   ]
  },
  {
   "cell_type": "code",
   "execution_count": null,
   "metadata": {},
   "outputs": [],
   "source": [
    "df1.to_csv(Dataset+'_file1.csv')\n",
    "df2.to_csv(Dataset+'_file2.csv')"
   ]
  }
 ],
 "metadata": {
  "kernelspec": {
   "display_name": "Python 3",
   "language": "python",
   "name": "python3"
  },
  "language_info": {
   "codemirror_mode": {
    "name": "ipython",
    "version": 3
   },
   "file_extension": ".py",
   "mimetype": "text/x-python",
   "name": "python",
   "nbconvert_exporter": "python",
   "pygments_lexer": "ipython3",
   "version": "3.7.3"
  }
 },
 "nbformat": 4,
 "nbformat_minor": 2
}
