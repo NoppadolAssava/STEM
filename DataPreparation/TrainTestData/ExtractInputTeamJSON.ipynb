{
 "cells": [
  {
   "cell_type": "code",
   "execution_count": null,
   "metadata": {},
   "outputs": [],
   "source": [
    "import os\n",
    "import sys\n",
    "import json\n",
    "\n",
    "curdir = os.getcwd()\n",
    "while 'config.json' not in os.listdir(curdir):\n",
    "    curdir = os.path.dirname(curdir)\n",
    "with open(os.path.join(curdir,'config.json'), 'r') as f:\n",
    "    dataset = json.load(f)['dataset']\n",
    "\n",
    "curdir = os.getcwd()\n",
    "while 'filepathhelper.py' not in os.listdir(curdir):\n",
    "       curdir = os.path.dirname(curdir)\n",
    "sys.path.append(curdir)\n",
    "import filepathhelper"
   ]
  },
  {
   "cell_type": "code",
   "execution_count": null,
   "metadata": {},
   "outputs": [],
   "source": [
    "import os\n",
    "import pickle\n",
    "import json\n",
    "import pandas as pd\n",
    "import numpy as np\n",
    "# from tqdm import tqdm\n",
    "from tqdm import tqdm_notebook as tqdm"
   ]
  },
  {
   "cell_type": "code",
   "execution_count": null,
   "metadata": {},
   "outputs": [],
   "source": [
    "winissues = pd.read_csv(filepathhelper.path(dataset,'winissue.csv'))\n",
    "assignees = pd.read_csv(filepathhelper.path(dataset,'assignee.csv'),sep=';')\n",
    "# assignees = assignees[(assignees['issuekey'].isin(winissues['issuekey']))]\n",
    "teams = pd.read_csv(filepathhelper.path(dataset,'team.csv'))\n",
    "# filterteamsize = pd.read_csv(filepathhelper.path(dataset,'filterteamsize.csv'))\n",
    "\n",
    "\n",
    "closeresolve = pd.read_csv(filepathhelper.path(dataset,'closeresolve.csv'),sep=';')\n",
    "teams = teams[(teams['issuekey'].isin(closeresolve['issuekey']))]\n",
    "teams = teams[(teams['issuekey'].isin(assignees['issuekey']))]\n",
    "# teams = teams[(teams['issuekey'].isin(filterteamsize['issuekey']))]\n",
    "assignees = assignees[(assignees['issuekey'].isin(teams['issuekey']))]\n",
    "descript = pd.read_csv(filepathhelper.path(dataset,'description.csv'))\n",
    "descript.set_index('issuekey',inplace=True)"
   ]
  },
  {
   "cell_type": "code",
   "execution_count": null,
   "metadata": {},
   "outputs": [],
   "source": [
    "info = pd.read_csv(filepathhelper.path(dataset,'issueinformation.csv'),sep=';')\n",
    "# proj = set()\n",
    "# temp = info['issuekey'].str.split('-')\n",
    "# for i in temp:\n",
    "#     proj.add(i[0])\n",
    "# print(len(proj))\n",
    "info = info[(info['issuekey'].isin(teams['issuekey']))]\n",
    "info = info[info.columns[0:2]]\n",
    "info['createdate'] =pd.to_datetime(info['createdate'])\n",
    "info.sort_values(by='createdate',inplace=True)\n",
    "info = info[info['issuekey'].isin(teams['issuekey'])]\n",
    "# print(info['createdate'].min(),info['createdate'].max())\n",
    "split = int(info.shape[0]*8/10)\n",
    "# info = info.drop(columns=['createdate'])\n",
    "train = info.iloc[:split]\n",
    "test = info.iloc[split:]\n",
    "# print(train['createdate'].min(),train['createdate'].max())\n",
    "# print(test['createdate'].min(),test['createdate'].max())\n",
    "trainingteam =  teams[(teams['issuekey'].isin(train['issuekey']))]\n",
    "testingteam =  teams[(teams['issuekey'].isin(test['issuekey']))]"
   ]
  },
  {
   "cell_type": "code",
   "execution_count": null,
   "metadata": {},
   "outputs": [],
   "source": [
    "trainingdev = set(trainingteam['dev'])\n",
    "trainingint = set(trainingteam['integrator'])\n",
    "trainingpeer = set(trainingteam['peer'])\n",
    "trainingtester = set(trainingteam['tester'])\n",
    "trainingassi = set(assignees[(assignees['issuekey'].isin(train['issuekey']))]['username'])\n",
    "testingdev = set(testingteam['dev'])\n",
    "testingint = set(testingteam['integrator'])\n",
    "testingpeer = set(testingteam['peer'])\n",
    "testingtester = set(testingteam['tester'])\n",
    "testingassi = set(assignees[(assignees['issuekey'].isin(test['issuekey']))]['username'])\n",
    "nottestingdev=testingdev-trainingdev\n",
    "nottestingint=testingint-trainingint\n",
    "nottestingpeer=testingpeer-trainingpeer\n",
    "nottestingtester=testingtester-trainingtester\n",
    "nottestingassi=testingassi-trainingassi\n",
    "\n",
    "invalidissue = set()\n",
    "\n",
    "for index, row in tqdm(testingteam.iterrows(),total=testingteam.shape[0]):\n",
    "    if row['dev'] in nottestingdev or row['integrator'] in nottestingint or row['peer'] in nottestingpeer or row['tester'] in nottestingtester or assignees[(assignees['issuekey']==row['issuekey'])].iloc[0]['username'] in nottestingassi:\n",
    "        invalidissue.add(row['issuekey'])\n",
    "testingteam = testingteam[(~testingteam['issuekey'].isin(invalidissue))]\n",
    "test= pd.DataFrame({'issuekey':testingteam['issuekey'].unique()})\n"
   ]
  },
  {
   "cell_type": "code",
   "execution_count": null,
   "metadata": {},
   "outputs": [],
   "source": [
    "testingpp = set(testingteam['dev'])\n",
    "testingpp.update(testingteam['integrator'])\n",
    "testingpp.update(testingteam['peer'])\n",
    "testingpp.update(testingteam['tester'])"
   ]
  },
  {
   "cell_type": "code",
   "execution_count": null,
   "metadata": {},
   "outputs": [],
   "source": [
    "# train.to_csv(filepathhelper.path(dataset,'trainissuekey.csv'))\n",
    "# test.to_csv(filepathhelper.path(dataset,'testissuekey.csv'))"
   ]
  },
  {
   "cell_type": "code",
   "execution_count": null,
   "metadata": {},
   "outputs": [],
   "source": [
    "trainingteam = trainingteam[(trainingteam['issuekey'].isin(winissues['issuekey']))]\n",
    "testingteam = testingteam[(testingteam['issuekey'].isin(winissues['issuekey']))]"
   ]
  },
  {
   "cell_type": "code",
   "execution_count": null,
   "metadata": {},
   "outputs": [],
   "source": [
    "with open(filepathhelper.path(dataset,'ItoC'),'rb') as f:\n",
    "    ItoC = pickle.load(f)"
   ]
  },
  {
   "cell_type": "code",
   "execution_count": null,
   "metadata": {},
   "outputs": [],
   "source": [
    "assignees.set_index('issuekey',inplace=True)\n"
   ]
  },
  {
   "cell_type": "markdown",
   "metadata": {},
   "source": [
    "# testing dataset"
   ]
  },
  {
   "cell_type": "code",
   "execution_count": null,
   "metadata": {},
   "outputs": [],
   "source": [
    "issue_team = {}\n",
    "for key,issue in tqdm(testingteam.iterrows(),total=testingteam.shape[0]):\n",
    "#     print(str(issue['dev'])=='nan')\n",
    "    issuekey = issue['issuekey']\n",
    "    if issuekey not in issue_team:\n",
    "        issue_team[issuekey]={'developer':set(),'integrator':set(),'tester':set(),'reviewer':set(),'assignee':set()}\n",
    "    team = issue_team[issuekey]\n",
    "    if str(issue['dev'])!='nan':\n",
    "        team['developer'].add(issue['dev'])\n",
    "    if str(issue['integrator'])!='nan':\n",
    "        team['integrator'].add(issue['integrator'])\n",
    "    if str(issue['peer'])!='nan':\n",
    "        team['reviewer'].add(issue['peer'])\n",
    "    if str(issue['tester'])!='nan':\n",
    "        team['tester'].add(issue['tester'])\n",
    "    asn = assignees.loc[issuekey]\n",
    "    if asn is not None:\n",
    "        nam = asn['username']\n",
    "        if str(nam)!='nan':\n",
    "            team['assignee'].add(nam)"
   ]
  },
  {
   "cell_type": "code",
   "execution_count": null,
   "metadata": {},
   "outputs": [],
   "source": [
    "issuecomponent = pd.read_csv(filepathhelper.path(dataset,'component_title.csv'),sep=';;;',engine='python')\n",
    "ItoC = {}\n",
    "for key,issue in tqdm(issuecomponent.iterrows(),total=issuecomponent.shape[0]):\n",
    "    issuekey = issue['issuekey']\n",
    "    component = issue['component']\n",
    "    if issuekey not in ItoC:\n",
    "        ItoC[issuekey] = set()\n",
    "    ItoC[issuekey].add(component)\n"
   ]
  },
  {
   "cell_type": "code",
   "execution_count": null,
   "metadata": {},
   "outputs": [],
   "source": [
    "rolemap = {'developer':'dev','tester':'tester','reviewer':'peer','integrator':'integrator'}\n",
    "inputs = []\n",
    "for issuekey in tqdm(issue_team):    \n",
    "    roles = issue_team[issuekey]\n",
    "#     context = descript.loc[issuekey]['description']\n",
    "    context=''\n",
    "    if issuekey in ItoC:\n",
    "        components = list(ItoC[issuekey])\n",
    "    else:\n",
    "        components = []\n",
    "    inp = {'issuekey':issuekey,'context':context,'components':components,'assignee': list(roles['assignee'])[0]}\n",
    "    team = []\n",
    "    for role in roles:\n",
    "        if role != 'assignee':\n",
    "            for i in range(1,len(roles[role])+1):\n",
    "                team.append(rolemap[role]+str(i))\n",
    "    inp['team']=team\n",
    "    inputs.append(inp)"
   ]
  },
  {
   "cell_type": "code",
   "execution_count": null,
   "metadata": {},
   "outputs": [],
   "source": [
    "with open(filepathhelper.path(dataset,'input_test.json'), 'w') as outfile:\n",
    "    json.dump(inputs, outfile)"
   ]
  }
 ],
 "metadata": {
  "kernelspec": {
   "display_name": "Python 3",
   "language": "python",
   "name": "python3"
  },
  "language_info": {
   "codemirror_mode": {
    "name": "ipython",
    "version": 3
   },
   "file_extension": ".py",
   "mimetype": "text/x-python",
   "name": "python",
   "nbconvert_exporter": "python",
   "pygments_lexer": "ipython3",
   "version": "3.7.1"
  }
 },
 "nbformat": 4,
 "nbformat_minor": 2
}
