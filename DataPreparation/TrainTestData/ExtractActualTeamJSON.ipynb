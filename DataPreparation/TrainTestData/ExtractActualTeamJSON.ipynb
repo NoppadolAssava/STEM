{
 "cells": [
  {
   "cell_type": "code",
   "execution_count": 1,
   "metadata": {},
   "outputs": [],
   "source": [
    "import os\n",
    "import sys\n",
    "import json\n",
    "\n",
    "curdir = os.getcwd()\n",
    "while 'config.json' not in os.listdir(curdir):\n",
    "    curdir = os.path.dirname(curdir)\n",
    "with open(os.path.join(curdir,'config.json'), 'r') as f:\n",
    "    dataset = json.load(f)['dataset']\n",
    "\n",
    "curdir = os.getcwd()\n",
    "while 'filepathhelper.py' not in os.listdir(curdir):\n",
    "       curdir = os.path.dirname(curdir)\n",
    "sys.path.append(curdir)\n",
    "import filepathhelper"
   ]
  },
  {
   "cell_type": "code",
   "execution_count": 2,
   "metadata": {},
   "outputs": [],
   "source": [
    "import pickle\n",
    "import os\n",
    "import json\n",
    "import pandas as pd\n",
    "import numpy as np\n",
    "# from tqdm import tqdm\n",
    "from tqdm import tqdm_notebook as tqdm"
   ]
  },
  {
   "cell_type": "code",
   "execution_count": 3,
   "metadata": {},
   "outputs": [],
   "source": [
    "winissues = pd.read_csv(filepathhelper.path(dataset,'winissue.csv'))\n",
    "assignees = pd.read_csv(filepathhelper.path(dataset,'assignee.csv'),sep=';')\n",
    "# assignees = assignees[(assignees['issuekey'].isin(winissues['issuekey']))]\n",
    "teams = pd.read_csv(filepathhelper.path(dataset,'team.csv'))\n",
    "# teams = teams[(teams['issuekey'].isin(winissues['issuekey']))]\n",
    "teams = teams[(teams['issuekey'].isin(assignees['issuekey']))]\n",
    "assignees.set_index('issuekey',inplace=True)"
   ]
  },
  {
   "cell_type": "markdown",
   "metadata": {},
   "source": [
    "# training dataset"
   ]
  },
  {
   "cell_type": "code",
   "execution_count": 4,
   "metadata": {},
   "outputs": [
    {
     "name": "stderr",
     "output_type": "stream",
     "text": [
      "/home/noppadolass/.local/lib/python3.7/site-packages/ipykernel_launcher.py:2: TqdmDeprecationWarning: This function will be removed in tqdm==5.0.0\n",
      "Please use `tqdm.notebook.tqdm` instead of `tqdm.tqdm_notebook`\n",
      "  \n"
     ]
    },
    {
     "data": {
      "application/vnd.jupyter.widget-view+json": {
       "model_id": "a3ea997c84af4a33873c7ffbac526ddf",
       "version_major": 2,
       "version_minor": 0
      },
      "text/plain": [
       "HBox(children=(FloatProgress(value=0.0, max=44612.0), HTML(value='')))"
      ]
     },
     "metadata": {},
     "output_type": "display_data"
    },
    {
     "name": "stdout",
     "output_type": "stream",
     "text": [
      "\n"
     ]
    }
   ],
   "source": [
    "issue_team = {}\n",
    "for key,issue in tqdm(teams.iterrows(),total=teams.shape[0]):\n",
    "#     print(str(issue['dev'])=='nan')\n",
    "    issuekey = issue['issuekey']\n",
    "    if issuekey not in issue_team:\n",
    "        issue_team[issuekey]={'developer':set(),'integrator':set(),'tester':set(),'reviewer':set(),'assignee':set()}\n",
    "    team = issue_team[issuekey]\n",
    "    if str(issue['dev'])!='nan':\n",
    "        team['developer'].add(issue['dev'])\n",
    "    if str(issue['integrator'])!='nan':\n",
    "        team['integrator'].add(issue['integrator'])\n",
    "    if str(issue['peer'])!='nan':\n",
    "        team['reviewer'].add(issue['peer'])\n",
    "    if str(issue['tester'])!='nan':\n",
    "        team['tester'].add(issue['tester'])\n",
    "    asn = assignees.loc[issuekey]\n",
    "    if asn is not None:\n",
    "        nam = asn['username']\n",
    "        if str(nam)!='nan':\n",
    "            team['assignee'].add(nam)"
   ]
  },
  {
   "cell_type": "code",
   "execution_count": 5,
   "metadata": {},
   "outputs": [
    {
     "name": "stderr",
     "output_type": "stream",
     "text": [
      "/home/noppadolass/.local/lib/python3.7/site-packages/ipykernel_launcher.py:1: TqdmDeprecationWarning: This function will be removed in tqdm==5.0.0\n",
      "Please use `tqdm.notebook.tqdm` instead of `tqdm.tqdm_notebook`\n",
      "  \"\"\"Entry point for launching an IPython kernel.\n"
     ]
    },
    {
     "data": {
      "application/vnd.jupyter.widget-view+json": {
       "model_id": "94c5ea339bc041ecac2cd20ca0275260",
       "version_major": 2,
       "version_minor": 0
      },
      "text/plain": [
       "HBox(children=(FloatProgress(value=0.0, max=27731.0), HTML(value='')))"
      ]
     },
     "metadata": {},
     "output_type": "display_data"
    },
    {
     "name": "stdout",
     "output_type": "stream",
     "text": [
      "\n"
     ]
    }
   ],
   "source": [
    "for issuekey in tqdm(issue_team):\n",
    "    issue = issue_team[issuekey]\n",
    "    for role in issue:\n",
    "        issue[role] = list(issue[role])"
   ]
  },
  {
   "cell_type": "code",
   "execution_count": 6,
   "metadata": {},
   "outputs": [
    {
     "name": "stderr",
     "output_type": "stream",
     "text": [
      "/home/noppadolass/.local/lib/python3.7/site-packages/ipykernel_launcher.py:2: TqdmDeprecationWarning: This function will be removed in tqdm==5.0.0\n",
      "Please use `tqdm.notebook.tqdm` instead of `tqdm.tqdm_notebook`\n",
      "  \n"
     ]
    },
    {
     "data": {
      "application/vnd.jupyter.widget-view+json": {
       "model_id": "b16195ea29c04272adb5ad6b691a3641",
       "version_major": 2,
       "version_minor": 0
      },
      "text/plain": [
       "HBox(children=(FloatProgress(value=0.0, max=27731.0), HTML(value='')))"
      ]
     },
     "metadata": {},
     "output_type": "display_data"
    },
    {
     "name": "stdout",
     "output_type": "stream",
     "text": [
      "\n"
     ]
    }
   ],
   "source": [
    "actual = []\n",
    "for issuekey in tqdm(issue_team):\n",
    "    issue= {'issue':issuekey,'r':[{'rank':-1,'team':issue_team[issuekey]}]}\n",
    "    actual.append(issue)"
   ]
  },
  {
   "cell_type": "code",
   "execution_count": 7,
   "metadata": {},
   "outputs": [],
   "source": [
    "with open(filepathhelper.path(dataset,'actual_team.json'), 'w') as outfile:\n",
    "    json.dump(actual, outfile)"
   ]
  },
  {
   "cell_type": "markdown",
   "metadata": {},
   "source": [
    "# Train File"
   ]
  },
  {
   "cell_type": "code",
   "execution_count": 7,
   "metadata": {},
   "outputs": [],
   "source": [
    "trainissuekey = pd.read_csv(filepathhelper.path(dataset,'trainissuekey.csv'))\n",
    "descript = pd.read_csv(filepathhelper.path(dataset,'description.csv'))\n",
    "teams = teams[(teams['issuekey'].isin(trainissuekey['issuekey']))]"
   ]
  },
  {
   "cell_type": "code",
   "execution_count": 8,
   "metadata": {},
   "outputs": [],
   "source": [
    "with open(filepathhelper.path(dataset,'ItoC'),'rb') as f:\n",
    "    ItoC = pickle.load(f)"
   ]
  },
  {
   "cell_type": "code",
   "execution_count": 9,
   "metadata": {},
   "outputs": [
    {
     "name": "stderr",
     "output_type": "stream",
     "text": [
      "/home/noppadolass/.local/lib/python3.7/site-packages/ipykernel_launcher.py:2: TqdmDeprecationWarning: This function will be removed in tqdm==5.0.0\n",
      "Please use `tqdm.notebook.tqdm` instead of `tqdm.tqdm_notebook`\n",
      "  \n"
     ]
    },
    {
     "data": {
      "application/vnd.jupyter.widget-view+json": {
       "model_id": "497751102b20485d81f3ebb8670b40cf",
       "version_major": 2,
       "version_minor": 0
      },
      "text/plain": [
       "HBox(children=(FloatProgress(value=0.0, max=3257.0), HTML(value='')))"
      ]
     },
     "metadata": {},
     "output_type": "display_data"
    },
    {
     "name": "stdout",
     "output_type": "stream",
     "text": [
      "\n"
     ]
    }
   ],
   "source": [
    "issue_team = {}\n",
    "for key,issue in tqdm(teams.iterrows(),total=teams.shape[0]):\n",
    "#     print(str(issue['dev'])=='nan')\n",
    "    issuekey = issue['issuekey']\n",
    "    if issuekey not in issue_team:\n",
    "        issue_team[issuekey]={'developer':set(),'integrator':set(),'tester':set(),'reviewer':set(),'assignee':set()}\n",
    "    team = issue_team[issuekey]\n",
    "    if str(issue['dev'])!='nan':\n",
    "        team['developer'].add(issue['dev'])\n",
    "    if str(issue['integrator'])!='nan':\n",
    "        team['integrator'].add(issue['integrator'])\n",
    "    if str(issue['peer'])!='nan':\n",
    "        team['reviewer'].add(issue['peer'])\n",
    "    if str(issue['tester'])!='nan':\n",
    "        team['tester'].add(issue['tester'])\n",
    "    asn = assignees.loc[issuekey]\n",
    "    if asn is not None:\n",
    "        nam = asn['username']\n",
    "        if str(nam)!='nan':\n",
    "            team['assignee'].add(nam)"
   ]
  },
  {
   "cell_type": "code",
   "execution_count": 10,
   "metadata": {},
   "outputs": [
    {
     "name": "stderr",
     "output_type": "stream",
     "text": [
      "/home/noppadolass/.local/lib/python3.7/site-packages/ipykernel_launcher.py:1: TqdmDeprecationWarning: This function will be removed in tqdm==5.0.0\n",
      "Please use `tqdm.notebook.tqdm` instead of `tqdm.tqdm_notebook`\n",
      "  \"\"\"Entry point for launching an IPython kernel.\n"
     ]
    },
    {
     "data": {
      "application/vnd.jupyter.widget-view+json": {
       "model_id": "a7c218c0263343d7a6d2ecf4a40cd725",
       "version_major": 2,
       "version_minor": 0
      },
      "text/plain": [
       "HBox(children=(FloatProgress(value=0.0, max=2333.0), HTML(value='')))"
      ]
     },
     "metadata": {},
     "output_type": "display_data"
    },
    {
     "name": "stdout",
     "output_type": "stream",
     "text": [
      "\n"
     ]
    }
   ],
   "source": [
    "for issuekey in tqdm(issue_team):\n",
    "    issue = issue_team[issuekey]\n",
    "    for role in issue:\n",
    "        issue[role] = list(issue[role])"
   ]
  },
  {
   "cell_type": "code",
   "execution_count": 12,
   "metadata": {},
   "outputs": [
    {
     "name": "stderr",
     "output_type": "stream",
     "text": [
      "/home/noppadolass/.local/lib/python3.7/site-packages/ipykernel_launcher.py:2: TqdmDeprecationWarning: This function will be removed in tqdm==5.0.0\n",
      "Please use `tqdm.notebook.tqdm` instead of `tqdm.tqdm_notebook`\n",
      "  \n"
     ]
    },
    {
     "data": {
      "application/vnd.jupyter.widget-view+json": {
       "model_id": "8f784d31625c4f7a86e4d6e58bad3a0c",
       "version_major": 2,
       "version_minor": 0
      },
      "text/plain": [
       "HBox(children=(FloatProgress(value=0.0, max=2333.0), HTML(value='')))"
      ]
     },
     "metadata": {},
     "output_type": "display_data"
    },
    {
     "name": "stdout",
     "output_type": "stream",
     "text": [
      "\n"
     ]
    }
   ],
   "source": [
    "actual = []\n",
    "for issuekey in tqdm(issue_team):\n",
    "    context = descript[(descript['issuekey']==issuekey)].iloc[0]['description']\n",
    "    if issuekey in ItoC:\n",
    "        components = list(ItoC[issuekey])\n",
    "    else:\n",
    "        components = []\n",
    "    issue= {'issue':issuekey,'context':context,'components':components,'r':[{'rank':-1,'team':issue_team[issuekey]}]}\n",
    "    actual.append(issue)"
   ]
  },
  {
   "cell_type": "code",
   "execution_count": 13,
   "metadata": {},
   "outputs": [],
   "source": [
    "with open(filepathhelper.path(dataset,'train_team.json'), 'w') as outfile:\n",
    "    json.dump(actual, outfile)"
   ]
  },
  {
   "cell_type": "markdown",
   "metadata": {},
   "source": [
    "# train team for hit and not hit"
   ]
  },
  {
   "cell_type": "code",
   "execution_count": 11,
   "metadata": {},
   "outputs": [
    {
     "name": "stderr",
     "output_type": "stream",
     "text": [
      "/home/noppadolass/.local/lib/python3.7/site-packages/ipykernel_launcher.py:13: TqdmDeprecationWarning: This function will be removed in tqdm==5.0.0\n",
      "Please use `tqdm.notebook.tqdm` instead of `tqdm.tqdm_notebook`\n",
      "  del sys.path[0]\n"
     ]
    },
    {
     "data": {
      "application/vnd.jupyter.widget-view+json": {
       "model_id": "e1b24c71ea7a4e2b8392527f1624cffb",
       "version_major": 2,
       "version_minor": 0
      },
      "text/plain": [
       "HBox(children=(FloatProgress(value=0.0, max=2333.0), HTML(value='')))"
      ]
     },
     "metadata": {},
     "output_type": "display_data"
    },
    {
     "name": "stdout",
     "output_type": "stream",
     "text": [
      "\n"
     ]
    }
   ],
   "source": [
    "import hashlib\n",
    "\n",
    "def hash_team(team):\n",
    "    t_sorted = {i:sorted(team[i]) if type(team[i]) == list else team[i] for i in team}\n",
    "    ## hash team\n",
    "    t_hash = hashlib.sha1(json.dumps(t_sorted, sort_keys=True).encode()).hexdigest()\n",
    "    return t_hash\n",
    "with open(filepathhelper.path(dataset,'train_team_back.json')) as json_file:\n",
    "    data = json.load(json_file)\n",
    "    issueteam = pd.DataFrame(data)\n",
    "    \n",
    "hashteam = set()\n",
    "for key,issue in tqdm(issueteam.iterrows(),total=issueteam.shape[0]):\n",
    "    team = issue['r'][0]['team']\n",
    "    hashteam.add(hash_team(team))"
   ]
  },
  {
   "cell_type": "code",
   "execution_count": 12,
   "metadata": {},
   "outputs": [
    {
     "data": {
      "text/plain": [
       "dict_keys(['integrator', 'developer', 'tester', 'reviewer', 'assignee'])"
      ]
     },
     "execution_count": 12,
     "metadata": {},
     "output_type": "execute_result"
    }
   ],
   "source": [
    "import random\n",
    "random.seed(123)\n",
    "with open(filepathhelper.path(dataset,'rp'),'rb') as f:\n",
    "    rp = pickle.load(f)\n",
    "def randnew(role,nummember):\n",
    "    newmember = []\n",
    "    for i in range(nummember):\n",
    "#         nm = random.choice(rp[role])\n",
    "#         while nm in hituser:\n",
    "#             nm = random.choice(rp[role])\n",
    "#         newmember.append(nm)\n",
    "        newmember.append(random.choice(rp[role]))\n",
    "    return newmember\n",
    "def rolenewteam(team):\n",
    "    for i in rp:\n",
    "        team[i] = randnew(i,len(team[i]))\n",
    "    return team\n",
    "\n",
    "rp['developer'] =rp['dev']\n",
    "rp['tester'] = rp['test']\n",
    "rp['reviewer'] = rp['peer']\n",
    "rp.pop('dev')\n",
    "rp.pop('test')\n",
    "rp.pop('peer')\n",
    "assignees = pd.read_csv(filepathhelper.path(dataset,'assignee.csv'),sep=';')\n",
    "assignees = assignees[(assignees['issuekey'].isin(trainissuekey['issuekey']))]\n",
    "rp['assignee'] = list(set(assignees['username']))\n",
    "rp.keys()"
   ]
  },
  {
   "cell_type": "code",
   "execution_count": 13,
   "metadata": {},
   "outputs": [
    {
     "name": "stderr",
     "output_type": "stream",
     "text": [
      "/home/noppadolass/.local/lib/python3.7/site-packages/ipykernel_launcher.py:2: TqdmDeprecationWarning: This function will be removed in tqdm==5.0.0\n",
      "Please use `tqdm.notebook.tqdm` instead of `tqdm.tqdm_notebook`\n",
      "  \n"
     ]
    },
    {
     "data": {
      "application/vnd.jupyter.widget-view+json": {
       "model_id": "f79b1f1b15714fab9e27227f20ab8fe6",
       "version_major": 2,
       "version_minor": 0
      },
      "text/plain": [
       "HBox(children=(FloatProgress(value=0.0, max=2333.0), HTML(value='')))"
      ]
     },
     "metadata": {},
     "output_type": "display_data"
    },
    {
     "name": "stdout",
     "output_type": "stream",
     "text": [
      "\n"
     ]
    }
   ],
   "source": [
    "actual2=[]\n",
    "for issuekey in tqdm(issue_team):\n",
    "    if issuekey in ItoC:\n",
    "        components = list(ItoC[issuekey])\n",
    "    else:\n",
    "        components = []\n",
    "    count = 0\n",
    "    cur_team = issue_team[issuekey]\n",
    "    cur_hash = hash_team(cur_team)\n",
    "    actual2.append({'issue':'real_'+issuekey,'components':components,'r':[{'rank':-1,'team':cur_team}]})\n",
    "    while count<100:\n",
    "        newteam = rolenewteam(cur_team.copy())\n",
    "        if hash_team(newteam) != cur_hash:\n",
    "            actual2.append({'issue':'gen'+str(count)+'_'+issuekey,'components':components,'r':[{'rank':-1,'team':newteam}]})\n",
    "            count=count+1\n",
    "with open(filepathhelper.path(dataset,'train_team.json'), 'w') as outfile:\n",
    "    json.dump(actual2, outfile)  "
   ]
  }
 ],
 "metadata": {
  "kernelspec": {
   "display_name": "Python 3",
   "language": "python",
   "name": "python3"
  },
  "language_info": {
   "codemirror_mode": {
    "name": "ipython",
    "version": 3
   },
   "file_extension": ".py",
   "mimetype": "text/x-python",
   "name": "python",
   "nbconvert_exporter": "python",
   "pygments_lexer": "ipython3",
   "version": "3.7.1"
  }
 },
 "nbformat": 4,
 "nbformat_minor": 2
}
