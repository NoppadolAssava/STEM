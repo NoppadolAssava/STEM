{
 "cells": [
  {
   "cell_type": "code",
   "execution_count": 1,
   "metadata": {},
   "outputs": [],
   "source": [
    "import os\n",
    "import sys\n",
    "import json\n",
    "\n",
    "curdir = os.getcwd()\n",
    "while 'config.json' not in os.listdir(curdir):\n",
    "    curdir = os.path.dirname(curdir)\n",
    "with open(os.path.join(curdir,'config.json'), 'r') as f:\n",
    "    dataset = json.load(f)['dataset']\n",
    "\n",
    "curdir = os.getcwd()\n",
    "while 'filepathhelper.py' not in os.listdir(curdir):\n",
    "       curdir = os.path.dirname(curdir)\n",
    "sys.path.append(curdir)\n",
    "import filepathhelper"
   ]
  },
  {
   "cell_type": "code",
   "execution_count": 2,
   "metadata": {},
   "outputs": [],
   "source": [
    "import math\n",
    "import random\n",
    "import pandas as pd\n",
    "import numpy as np\n",
    "from tqdm import tqdm\n",
    "import pickle\n",
    "# from tqdm import tqdm_notebook as tqdm\n",
    "from neo4j import GraphDatabase\n",
    "import neo4j\n",
    "import json\n"
   ]
  },
  {
   "cell_type": "code",
   "execution_count": 3,
   "metadata": {},
   "outputs": [],
   "source": [
    "def APSS(tx):\n",
    "    result = tx.run(\"CALL algo.allShortestPaths.stream('weight',{nodeQuery:'Person',defaultValue:1.0}) \"\n",
    "                    \"YIELD sourceNodeId, targetNodeId, distance \"\n",
    "                    \"WITH sourceNodeId, targetNodeId, distance \"\n",
    "                    \"WHERE algo.isFinite(distance) = true \"\n",
    "                    \"MATCH (source:Person) WHERE id(source) = sourceNodeId \"\n",
    "                    \"MATCH (target:Person) WHERE id(target) = targetNodeId \"\n",
    "                    \"WITH source, target, distance WHERE source <> target \"\n",
    "                    \"RETURN source.name AS source, target.name AS target, distance\")\n",
    "    return result\n",
    "\n",
    "\n",
    "driver = GraphDatabase.driver(\"bolt://localhost:7687\", auth=(\"neo4j\", \"jrdb\"))\n",
    "with driver.session() as session:\n",
    "    sp = session.read_transaction(APSS)\n",
    "driver.close()\n",
    "PPsp = {}\n",
    "for i in sp.records():\n",
    "    u = i['source']\n",
    "    v = i['target']\n",
    "    w = i['distance']\n",
    "    if u not in PPsp:\n",
    "        PPsp[u] = {}\n",
    "    PPsp[u][v] = w\n",
    "with open(filepathhelper.path(dataset,'PPsp'),'wb') as f:\n",
    "    pickle.dump(PPsp,f)"
   ]
  },
  {
   "cell_type": "code",
   "execution_count": null,
   "metadata": {},
   "outputs": [],
   "source": [
    "def APSS(tx):\n",
    "    result = tx.run(\"CALL algo.allShortestPaths.stream('weight',{nodeQuery:'Issue',defaultValue:1.0}) \"\n",
    "                    \"YIELD sourceNodeId, targetNodeId, distance \"\n",
    "                    \"WITH sourceNodeId, targetNodeId, distance \"\n",
    "                    \"WHERE algo.isFinite(distance) = true \"\n",
    "                    \"MATCH (source:Issue) WHERE id(source) = sourceNodeId \"\n",
    "                    \"MATCH (target:Issue) WHERE id(target) = targetNodeId \"\n",
    "                    \"WITH source, target, distance WHERE source <> target \"\n",
    "                    \"RETURN source.name AS source, target.name AS target, distance\")\n",
    "    return result\n",
    "\n",
    "\n",
    "driver = GraphDatabase.driver(\"bolt://localhost:7687\", auth=(\"neo4j\", \"jrdb\"))\n",
    "with driver.session() as session:\n",
    "    sp = session.read_transaction(APSS)\n",
    "driver.close()\n",
    "IIsp = {}\n",
    "for i in sp.records():\n",
    "    u = i['source']\n",
    "    v = i['target']\n",
    "    w = i['distance']\n",
    "    if u not in IIsp:\n",
    "        IIsp[u] = {}\n",
    "    IIsp[u][v] = w\n",
    "with open(filepathhelper.path(dataset,'IIsp'),'wb') as f:\n",
    "    pickle.dump(IIsp,f)"
   ]
  },
  {
   "cell_type": "code",
   "execution_count": null,
   "metadata": {},
   "outputs": [],
   "source": []
  },
  {
   "cell_type": "code",
   "execution_count": null,
   "metadata": {},
   "outputs": [],
   "source": []
  }
 ],
 "metadata": {
  "kernelspec": {
   "display_name": "Python 3",
   "language": "python",
   "name": "python3"
  },
  "language_info": {
   "codemirror_mode": {
    "name": "ipython",
    "version": 3
   },
   "file_extension": ".py",
   "mimetype": "text/x-python",
   "name": "python",
   "nbconvert_exporter": "python",
   "pygments_lexer": "ipython3",
   "version": "3.7.4"
  }
 },
 "nbformat": 4,
 "nbformat_minor": 4
}
