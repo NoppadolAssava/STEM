{
 "cells": [
  {
   "cell_type": "code",
   "execution_count": 1,
   "metadata": {},
   "outputs": [],
   "source": [
    "import os\n",
    "import sys\n",
    "import json\n",
    "\n",
    "curdir = os.getcwd()\n",
    "while 'config.json' not in os.listdir(curdir):\n",
    "    curdir = os.path.dirname(curdir)\n",
    "with open(os.path.join(curdir,'config.json'), 'r') as f:\n",
    "    dataset = json.load(f)['dataset']\n",
    "\n",
    "curdir = os.getcwd()\n",
    "while 'filepathhelper.py' not in os.listdir(curdir):\n",
    "       curdir = os.path.dirname(curdir)\n",
    "sys.path.append(curdir)\n",
    "import filepathhelper"
   ]
  },
  {
   "cell_type": "code",
   "execution_count": 2,
   "metadata": {},
   "outputs": [],
   "source": [
    "from neo4j import GraphDatabase\n",
    "import pandas as pd\n",
    "import numpy as np\n",
    "# from tqdm import tqdm\n",
    "from tqdm import tqdm_notebook as tqdm"
   ]
  },
  {
   "cell_type": "markdown",
   "metadata": {},
   "source": [
    "# Initialize DB and read csv"
   ]
  },
  {
   "cell_type": "code",
   "execution_count": 3,
   "metadata": {},
   "outputs": [],
   "source": [
    "uri = \"bolt://localhost:7687\"\n",
    "driver = GraphDatabase.driver(uri, auth=(\"neo4j\", \"jrdb\"))"
   ]
  },
  {
   "cell_type": "code",
   "execution_count": 4,
   "metadata": {},
   "outputs": [],
   "source": [
    "def create_issue(tx,issuekey):\n",
    "    tx.run(\"CREATE (:Issue {name: $issuekey})\",issuekey=issuekey)\n",
    "def create_issue_relation(tx,issueA,issueB,relation):\n",
    "    relation = relation.replace(\" \",\"_\")\n",
    "    relation = relation.replace(\"-\",\"_\")\n",
    "    tx.run(\"MATCH (a:Issue),(b:Issue)\"\n",
    "           \"WHERE a.name = $issueA AND b.name = $issueB AND NOT EXISTS((a)-[:\"+relation+\"]->(b))\"\n",
    "           \"CREATE (a)-[:\"+relation+\" {weight: 1}]->(b)\",issueA=issueA,issueB=issueB)\n",
    "def create_and_return_greeting(tx, message):\n",
    "    result = tx.run(\"CREATE (a:Greeting) \"\n",
    "                        \"SET a.message = $message \"\n",
    "                        \"RETURN a.message + ', from node ' + id(a)\", message=message)\n",
    "    return result.single()[0]"
   ]
  },
  {
   "cell_type": "code",
   "execution_count": 5,
   "metadata": {},
   "outputs": [],
   "source": [
    "issuelink = pd.read_csv(filepathhelper.path(dataset,'issuelink.csv'),sep=';')\n",
    "trainissue = pd.read_csv(filepathhelper.path(dataset,'trainissuekey.csv'))"
   ]
  },
  {
   "cell_type": "code",
   "execution_count": 6,
   "metadata": {},
   "outputs": [],
   "source": [
    "issuelink = issuelink[(issuelink['u'].isin(trainissue['issuekey']))]\n",
    "issuelink = issuelink[(issuelink['v'].isin(trainissue['issuekey']))]"
   ]
  },
  {
   "cell_type": "markdown",
   "metadata": {},
   "source": [
    "# Create issuekey"
   ]
  },
  {
   "cell_type": "code",
   "execution_count": 7,
   "metadata": {},
   "outputs": [
    {
     "data": {
      "text/plain": [
       "8131"
      ]
     },
     "execution_count": 7,
     "metadata": {},
     "output_type": "execute_result"
    }
   ],
   "source": [
    "allissue = set(issuelink['u'].unique())\n",
    "allissue.update(issuelink['v'].unique())\n",
    "len(allissue)"
   ]
  },
  {
   "cell_type": "code",
   "execution_count": 8,
   "metadata": {},
   "outputs": [
    {
     "name": "stderr",
     "output_type": "stream",
     "text": [
      "/home/noppadolass/.local/lib/python3.7/site-packages/ipykernel_launcher.py:3: TqdmDeprecationWarning: This function will be removed in tqdm==5.0.0\n",
      "Please use `tqdm.notebook.tqdm` instead of `tqdm.tqdm_notebook`\n",
      "  This is separate from the ipykernel package so we can avoid doing imports until\n"
     ]
    },
    {
     "data": {
      "application/vnd.jupyter.widget-view+json": {
       "model_id": "e8a04b51ae704029b123103c789f3029",
       "version_major": 2,
       "version_minor": 0
      },
      "text/plain": [
       "HBox(children=(FloatProgress(value=0.0, max=8131.0), HTML(value='')))"
      ]
     },
     "metadata": {},
     "output_type": "display_data"
    },
    {
     "name": "stdout",
     "output_type": "stream",
     "text": [
      "\n"
     ]
    }
   ],
   "source": [
    "with driver.session() as session:\n",
    "#     session.read_transaction(print_friends_of, \"Alice\")\n",
    "    for i in tqdm(allissue):\n",
    "        session.write_transaction(create_issue, i)\n"
   ]
  },
  {
   "cell_type": "markdown",
   "metadata": {},
   "source": [
    "# Create Relationship"
   ]
  },
  {
   "cell_type": "code",
   "execution_count": 9,
   "metadata": {},
   "outputs": [
    {
     "name": "stderr",
     "output_type": "stream",
     "text": [
      "/home/noppadolass/.local/lib/python3.7/site-packages/ipykernel_launcher.py:2: TqdmDeprecationWarning: This function will be removed in tqdm==5.0.0\n",
      "Please use `tqdm.notebook.tqdm` instead of `tqdm.tqdm_notebook`\n",
      "  \n"
     ]
    },
    {
     "data": {
      "application/vnd.jupyter.widget-view+json": {
       "model_id": "7ec2d1d1b54b4f4a925149e2b44d8d99",
       "version_major": 2,
       "version_minor": 0
      },
      "text/plain": [
       "HBox(children=(FloatProgress(value=0.0, max=6648.0), HTML(value='')))"
      ]
     },
     "metadata": {},
     "output_type": "display_data"
    },
    {
     "name": "stdout",
     "output_type": "stream",
     "text": [
      "\n"
     ]
    }
   ],
   "source": [
    "with driver.session() as session:\n",
    "    for key,issue in tqdm(issuelink.iterrows(),total=issuelink.shape[0]):\n",
    "        u = issue['u']\n",
    "        v = issue['v']\n",
    "        session.write_transaction(create_issue_relation, u,v,issue['relation'])\n"
   ]
  },
  {
   "cell_type": "code",
   "execution_count": null,
   "metadata": {},
   "outputs": [],
   "source": []
  }
 ],
 "metadata": {
  "kernelspec": {
   "display_name": "Python 3",
   "language": "python",
   "name": "python3"
  },
  "language_info": {
   "codemirror_mode": {
    "name": "ipython",
    "version": 3
   },
   "file_extension": ".py",
   "mimetype": "text/x-python",
   "name": "python",
   "nbconvert_exporter": "python",
   "pygments_lexer": "ipython3",
   "version": "3.7.4"
  }
 },
 "nbformat": 4,
 "nbformat_minor": 2
}
