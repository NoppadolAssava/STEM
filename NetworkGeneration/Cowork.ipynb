{
 "cells": [
  {
   "cell_type": "code",
   "execution_count": 1,
   "metadata": {},
   "outputs": [],
   "source": [
    "import os\n",
    "import sys\n",
    "import json\n",
    "\n",
    "curdir = os.getcwd()\n",
    "while 'config.json' not in os.listdir(curdir):\n",
    "    curdir = os.path.dirname(curdir)\n",
    "with open(os.path.join(curdir,'config.json'), 'r') as f:\n",
    "    dataset = json.load(f)['dataset']\n",
    "\n",
    "curdir = os.getcwd()\n",
    "while 'filepathhelper.py' not in os.listdir(curdir):\n",
    "       curdir = os.path.dirname(curdir)\n",
    "sys.path.append(curdir)\n",
    "import filepathhelper"
   ]
  },
  {
   "cell_type": "code",
   "execution_count": 2,
   "metadata": {},
   "outputs": [],
   "source": [
    "from neo4j import GraphDatabase\n",
    "import pandas as pd\n",
    "import numpy as np\n",
    "# from tqdm import tqdm\n",
    "from tqdm import tqdm_notebook as tqdm"
   ]
  },
  {
   "cell_type": "markdown",
   "metadata": {},
   "source": [
    "# Initialize DB and read csv"
   ]
  },
  {
   "cell_type": "code",
   "execution_count": 3,
   "metadata": {},
   "outputs": [],
   "source": [
    "uri = \"bolt://localhost:7687\"\n",
    "driver = GraphDatabase.driver(uri, auth=(\"neo4j\", \"jrdb\"))"
   ]
  },
  {
   "cell_type": "code",
   "execution_count": 4,
   "metadata": {},
   "outputs": [],
   "source": [
    "def create_person(tx,username):\n",
    "    tx.run(\"CREATE (:Person {name: $username})\",username=username)\n",
    "def create_work_relation(tx,userA,userB):\n",
    "    tx.run(\"MATCH (a:Person),(b:Person)\"\n",
    "           \"WHERE a.name = $userA AND b.name = $userB AND NOT EXISTS((a)-[:WorkWith]->(b))\"\n",
    "           \"CREATE (a)-[:WorkWith {weight: 1}]->(b)\",userA=userA,userB=userB)\n",
    "def create_and_return_greeting(tx, message):\n",
    "    result = tx.run(\"CREATE (a:Greeting) \"\n",
    "                        \"SET a.message = $message \"\n",
    "                        \"RETURN a.message + ', from node ' + id(a)\", message=message)\n",
    "    return result.single()[0]"
   ]
  },
  {
   "cell_type": "code",
   "execution_count": 5,
   "metadata": {},
   "outputs": [],
   "source": [
    "teams = pd.read_csv(filepathhelper.path(dataset,'team.csv'))\n",
    "closeresolve = pd.read_csv(filepathhelper.path(dataset,'closeresolve.csv'),sep=';')\n",
    "teams = teams[(teams['issuekey'].isin(closeresolve['issuekey']))]\n",
    "assignees = pd.read_csv(filepathhelper.path(dataset,'assignee.csv'),sep=';')\n",
    "assignees = assignees[(assignees['issuekey'].isin(teams['issuekey']))]\n",
    "assignees.set_index('issuekey',inplace=True)"
   ]
  },
  {
   "cell_type": "code",
   "execution_count": 6,
   "metadata": {},
   "outputs": [],
   "source": [
    "trainissue = pd.read_csv(filepathhelper.path(dataset,'trainissuekey.csv'))\n",
    "teams = teams[(teams['issuekey'].isin(trainissue['issuekey']))]"
   ]
  },
  {
   "cell_type": "markdown",
   "metadata": {},
   "source": [
    "# Create All username"
   ]
  },
  {
   "cell_type": "code",
   "execution_count": 7,
   "metadata": {},
   "outputs": [
    {
     "data": {
      "text/plain": [
       "688"
      ]
     },
     "execution_count": 7,
     "metadata": {},
     "output_type": "execute_result"
    }
   ],
   "source": [
    "allpp = set(teams['dev'].unique())\n",
    "allpp.update(teams['tester'].unique())\n",
    "allpp.update(teams['peer'].unique())\n",
    "allpp.update(teams['integrator'].unique())\n",
    "allpp.update(assignees['username'].unique())\n",
    "len(allpp)"
   ]
  },
  {
   "cell_type": "code",
   "execution_count": 8,
   "metadata": {},
   "outputs": [
    {
     "name": "stderr",
     "output_type": "stream",
     "text": [
      "/home/noppadolass/.local/lib/python3.7/site-packages/ipykernel_launcher.py:3: TqdmDeprecationWarning: This function will be removed in tqdm==5.0.0\n",
      "Please use `tqdm.notebook.tqdm` instead of `tqdm.tqdm_notebook`\n",
      "  This is separate from the ipykernel package so we can avoid doing imports until\n"
     ]
    },
    {
     "data": {
      "application/vnd.jupyter.widget-view+json": {
       "model_id": "8402ffd93d0d4fb4882785422def97e5",
       "version_major": 2,
       "version_minor": 0
      },
      "text/plain": [
       "HBox(children=(FloatProgress(value=0.0, max=688.0), HTML(value='')))"
      ]
     },
     "metadata": {},
     "output_type": "display_data"
    },
    {
     "name": "stdout",
     "output_type": "stream",
     "text": [
      "\n"
     ]
    }
   ],
   "source": [
    "with driver.session() as session:\n",
    "#     session.read_transaction(print_friends_of, \"Alice\")\n",
    "    for i in tqdm(allpp):\n",
    "        session.write_transaction(create_person, i)\n"
   ]
  },
  {
   "cell_type": "markdown",
   "metadata": {},
   "source": [
    "# Create Relationship"
   ]
  },
  {
   "cell_type": "code",
   "execution_count": 9,
   "metadata": {},
   "outputs": [
    {
     "name": "stderr",
     "output_type": "stream",
     "text": [
      "/home/noppadolass/.local/lib/python3.7/site-packages/ipykernel_launcher.py:2: TqdmDeprecationWarning: This function will be removed in tqdm==5.0.0\n",
      "Please use `tqdm.notebook.tqdm` instead of `tqdm.tqdm_notebook`\n",
      "  \n"
     ]
    },
    {
     "data": {
      "application/vnd.jupyter.widget-view+json": {
       "model_id": "fa286cd86f6b4049b66f9fe0400f5704",
       "version_major": 2,
       "version_minor": 0
      },
      "text/plain": [
       "HBox(children=(FloatProgress(value=0.0, max=34255.0), HTML(value='')))"
      ]
     },
     "metadata": {},
     "output_type": "display_data"
    },
    {
     "name": "stdout",
     "output_type": "stream",
     "text": [
      "\n"
     ]
    }
   ],
   "source": [
    "teamdict = {}\n",
    "for key,issue in tqdm(teams.iterrows(),total=teams.shape[0]):\n",
    "    issuekey = issue['issuekey']\n",
    "    team = set()\n",
    "    if str(issue['dev'])!='nan':\n",
    "        team.add(issue['dev'])\n",
    "    if str(issue['integrator'])!='nan':\n",
    "        team.add(issue['integrator'])\n",
    "    if str(issue['peer'])!='nan':\n",
    "        team.add(issue['peer'])\n",
    "    if str(issue['tester'])!='nan':\n",
    "        team.add(issue['tester'])\n",
    "    try:\n",
    "        asn = assignees.loc[issuekey]['username']\n",
    "        if str(asn)!='nan':\n",
    "            team.add(nam)\n",
    "    except:\n",
    "        pass\n",
    "    if issuekey in teamdict:\n",
    "        teamdict[issuekey].update(team)\n",
    "    else:\n",
    "        teamdict[issuekey]=team\n",
    "    "
   ]
  },
  {
   "cell_type": "code",
   "execution_count": 10,
   "metadata": {},
   "outputs": [
    {
     "name": "stderr",
     "output_type": "stream",
     "text": [
      "/home/noppadolass/.local/lib/python3.7/site-packages/ipykernel_launcher.py:2: TqdmDeprecationWarning: This function will be removed in tqdm==5.0.0\n",
      "Please use `tqdm.notebook.tqdm` instead of `tqdm.tqdm_notebook`\n",
      "  \n"
     ]
    },
    {
     "data": {
      "application/vnd.jupyter.widget-view+json": {
       "model_id": "c6ba280da43b4d549a794eae1fb5ef3c",
       "version_major": 2,
       "version_minor": 0
      },
      "text/plain": [
       "HBox(children=(FloatProgress(value=0.0, max=21827.0), HTML(value='')))"
      ]
     },
     "metadata": {},
     "output_type": "display_data"
    },
    {
     "name": "stdout",
     "output_type": "stream",
     "text": [
      "\n"
     ]
    }
   ],
   "source": [
    "with driver.session() as session:\n",
    "    for t in tqdm(teamdict):\n",
    "        team = teamdict[t]\n",
    "        if len(team)>1:\n",
    "            teamlis = list(team)\n",
    "            for i in range(len(teamlis)):\n",
    "                for j in range(i+1,len(teamlis)):\n",
    "                    p1 = teamlis[i]\n",
    "                    p2 = teamlis[j]\n",
    "                    session.write_transaction(create_work_relation, p1,p2)\n",
    "                    session.write_transaction(create_work_relation, p2,p1)"
   ]
  },
  {
   "cell_type": "code",
   "execution_count": null,
   "metadata": {},
   "outputs": [],
   "source": []
  }
 ],
 "metadata": {
  "kernelspec": {
   "display_name": "Python 3",
   "language": "python",
   "name": "python3"
  },
  "language_info": {
   "codemirror_mode": {
    "name": "ipython",
    "version": 3
   },
   "file_extension": ".py",
   "mimetype": "text/x-python",
   "name": "python",
   "nbconvert_exporter": "python",
   "pygments_lexer": "ipython3",
   "version": "3.7.4"
  }
 },
 "nbformat": 4,
 "nbformat_minor": 2
}
