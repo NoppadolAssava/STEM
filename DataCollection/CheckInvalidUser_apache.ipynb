{
 "cells": [
  {
   "cell_type": "code",
   "execution_count": 1,
   "metadata": {},
   "outputs": [],
   "source": [
    "import requests\n",
    "import traceback\n",
    "import base64\n",
    "import json\n",
    "import os\n",
    "import time\n",
    "import mysql.connector\n",
    "from tqdm.notebook import tqdm\n",
    "# from tqdm import tqdm\n",
    "from requests.auth import HTTPBasicAuth\n",
    "import argparse\n",
    "import pandas as pd\n",
    "import getpass"
   ]
  },
  {
   "cell_type": "code",
   "execution_count": 2,
   "metadata": {},
   "outputs": [],
   "source": [
    "def checkUser(username):\n",
    "    r = requests.get(apiaddress+'/rest/api/2/user/?username='+username+'&expand=groups,applicationRoles',auth=HTTPBasicAuth(apiuser, apipass))\n",
    "    if r.status_code !=200:\n",
    "        return None\n",
    "    else:\n",
    "        with open(os.path.join('collecteduser',username+'_user.json'), 'w') as json_file:  \n",
    "            json.dump(r.json(), json_file)\n",
    "        return r.json()"
   ]
  },
  {
   "cell_type": "code",
   "execution_count": 3,
   "metadata": {},
   "outputs": [],
   "source": [
    "apiuser='lamogibeb'\n",
    "apipass='1234567890'\n",
    "apiaddress='http://issues.apache.org/jira'"
   ]
  },
  {
   "cell_type": "code",
   "execution_count": 4,
   "metadata": {},
   "outputs": [
    {
     "data": {
      "text/plain": [
       "2430"
      ]
     },
     "execution_count": 4,
     "metadata": {},
     "output_type": "execute_result"
    }
   ],
   "source": [
    "df = pd.read_csv('invalid_username.csv')\n",
    "len(df['username'])"
   ]
  },
  {
   "cell_type": "code",
   "execution_count": 22,
   "metadata": {},
   "outputs": [
    {
     "data": {
      "application/vnd.jupyter.widget-view+json": {
       "model_id": "421da512edb845e39f15f39bf010a38a",
       "version_major": 2,
       "version_minor": 0
      },
      "text/plain": [
       "HBox(children=(FloatProgress(value=0.0, max=2430.0), HTML(value='')))"
      ]
     },
     "metadata": {},
     "output_type": "display_data"
    },
    {
     "name": "stdout",
     "output_type": "stream",
     "text": [
      "\n"
     ]
    }
   ],
   "source": [
    "for index, row in tqdm(df.iterrows(),total = df.shape[0]):\n",
    "    success = False\n",
    "    if str(df.loc[index,'check']) != 'nan':\n",
    "        continue\n",
    "    while not success:\n",
    "        try:\n",
    "            df.loc[index,'check']= True if checkUser(row['username']) is not None else False\n",
    "            time.sleep(.065)\n",
    "            success = True\n",
    "        except Exception:\n",
    "            print(traceback.format_exc())\n",
    "            time.sleep(10)\n",
    "            success = False"
   ]
  },
  {
   "cell_type": "code",
   "execution_count": 27,
   "metadata": {},
   "outputs": [
    {
     "data": {
      "text/plain": [
       "1177"
      ]
     },
     "execution_count": 27,
     "metadata": {},
     "output_type": "execute_result"
    }
   ],
   "source": [
    "df[(df['check']==False)].shape[0]"
   ]
  },
  {
   "cell_type": "code",
   "execution_count": 28,
   "metadata": {},
   "outputs": [
    {
     "data": {
      "text/plain": [
       "1253"
      ]
     },
     "execution_count": 28,
     "metadata": {},
     "output_type": "execute_result"
    }
   ],
   "source": [
    "df[(df['check']==True)].shape[0]"
   ]
  },
  {
   "cell_type": "code",
   "execution_count": 30,
   "metadata": {},
   "outputs": [],
   "source": [
    "df.rename(columns={'check':'isApacheID'},inplace=True)\n",
    "df.to_csv('checkedusername.csv')"
   ]
  }
 ],
 "metadata": {
  "kernelspec": {
   "display_name": "Python 3",
   "language": "python",
   "name": "python3"
  },
  "language_info": {
   "codemirror_mode": {
    "name": "ipython",
    "version": 3
   },
   "file_extension": ".py",
   "mimetype": "text/x-python",
   "name": "python",
   "nbconvert_exporter": "python",
   "pygments_lexer": "ipython3",
   "version": "3.7.1"
  }
 },
 "nbformat": 4,
 "nbformat_minor": 2
}
